{
 "cells": [
  {
   "cell_type": "code",
   "execution_count": 1,
   "metadata": {},
   "outputs": [],
   "source": [
    "import numpy as np\n",
    "import cv2\n",
    "import matplotlib.pyplot as plt\n",
    "from PIL import Image \n",
    "import time\n",
    "from skimage import io\n",
    "from skimage.morphology import convex_hull_image\n",
    "from skimage.measure import label, regionprops\n",
    "from skimage.color import rgb2gray\n",
    "from PIL import Image \n",
    "import coremltools "
   ]
  },
  {
   "cell_type": "code",
   "execution_count": null,
   "metadata": {},
   "outputs": [],
   "source": [
    "cap = cv2.VideoCapture(1)\n",
    "time.sleep(0)"
   ]
  },
  {
   "cell_type": "code",
   "execution_count": null,
   "metadata": {},
   "outputs": [],
   "source": [
    "model = coremltools.models.MLModel('ColourCheck.mlmodel')"
   ]
  },
  {
   "cell_type": "code",
   "execution_count": null,
   "metadata": {},
   "outputs": [],
   "source": [
    "while (serial):\n",
    "    ret, frame = cap.read() # ret is boolean for pic avalble or not\n",
    "    frame=frame[...,::-1] # cv2 BRG to RGB\n",
    "    grayframe=rgb2gray(frame)\n",
    "    binary=grayframe>200\n",
    "    labelframe=label(binary)\n",
    "    regiongrframe=regionprops(labelframe)\n",
    "    \n",
    "    labelreal=-1\n",
    "    yreal=0\n",
    "    minr, minc, maxr, maxc=0,0,0,0\n",
    "    for j in range(len(regiongrframe)):\n",
    "        area=regiongrframe[j].area\n",
    "        y0,x0=regiongrframe[j].centroid\n",
    "        if area<5000:\n",
    "            pass\n",
    "        elif(y0>yreal):\n",
    "            labelreal= regiongrframe[j].label\n",
    "            yreal=y0\n",
    "            minr, minc, maxr, maxc = region.bbox\n",
    "    \n",
    "    binary=(labelframe==labelreal)\n",
    "    frame=frame*binary\n",
    "    binary=binary[minr:maxr+1,minc,maxc+1]\n",
    "    frame=frame[minr:maxr+1,minc,maxc+1,:]\n",
    "    \n",
    "    R=frame[:,:,0]\n",
    "    G=frame[:,:,1]\n",
    "    B=frame[:,:,2]\n",
    "    meanofrgb=(R+G+B)/1.65\n",
    "    \n",
    "    biforblen=binary&(R>G*1.5)\n",
    "    if (np.sum(biforblen)*100/np.sum(convex_hull_image(biforblen))<70):\n",
    "        #return false\n",
    "        continue\n",
    "    \n",
    "    frame[(R+G+B)==0]=255\n",
    "    img=Image.fromarray(frame)\n",
    "    \n",
    "    if(model.predict({'image': img})['classLabel']=='true'):\n",
    "        #return true\n",
    "    else:\n",
    "        #return false"
   ]
  },
  {
   "cell_type": "code",
   "execution_count": null,
   "metadata": {},
   "outputs": [],
   "source": [
    "cap.release()\n",
    "cv2.destroyAllWindows()"
   ]
  }
 ],
 "metadata": {
  "kernelspec": {
   "display_name": "Python 3",
   "language": "python",
   "name": "python3"
  },
  "language_info": {
   "codemirror_mode": {
    "name": "ipython",
    "version": 3
   },
   "file_extension": ".py",
   "mimetype": "text/x-python",
   "name": "python",
   "nbconvert_exporter": "python",
   "pygments_lexer": "ipython3",
   "version": "3.7.3"
  }
 },
 "nbformat": 4,
 "nbformat_minor": 2
}
