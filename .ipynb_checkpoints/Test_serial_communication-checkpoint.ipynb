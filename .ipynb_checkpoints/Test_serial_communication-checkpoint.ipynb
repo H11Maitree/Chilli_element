{
 "cells": [
  {
   "cell_type": "markdown",
   "metadata": {},
   "source": [
    "For aurduino https://stackoverflow.com/questions/51616637/simple-2-way-serial-communication-between-raspberry-pi-and-arduino\n",
    "\n",
    "Look for Ankith Answer"
   ]
  },
  {
   "cell_type": "code",
   "execution_count": null,
   "metadata": {},
   "outputs": [],
   "source": [
    "import serial\n",
    "port=\"/dev/ttyACM0\"\n",
    "baudrate=9600\n",
    "ser=serial.Serial(port,baudrate)"
   ]
  },
  {
   "cell_type": "code",
   "execution_count": null,
   "metadata": {},
   "outputs": [],
   "source": [
    "while True:\n",
    "    waitforreq=ser.read_until()\n",
    "    respond=(\"F\\n\").encode('ascii')\n",
    "    ser.write(respond)"
   ]
  }
 ],
 "metadata": {
  "kernelspec": {
   "display_name": "Python 3",
   "language": "python",
   "name": "python3"
  },
  "language_info": {
   "codemirror_mode": {
    "name": "ipython",
    "version": 3
   },
   "file_extension": ".py",
   "mimetype": "text/x-python",
   "name": "python",
   "nbconvert_exporter": "python",
   "pygments_lexer": "ipython3",
   "version": "3.7.3"
  }
 },
 "nbformat": 4,
 "nbformat_minor": 2
}
